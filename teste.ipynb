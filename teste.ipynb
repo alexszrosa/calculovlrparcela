{
 "cells": [
  {
   "cell_type": "code",
   "execution_count": 21,
   "metadata": {},
   "outputs": [
    {
     "name": "stdout",
     "output_type": "stream",
     "text": [
      "1.44\n",
      "400\n"
     ]
    }
   ],
   "source": [
    "Taxa = int(20)\n",
    "Prazo = 2\n",
    "Taxac = (1+Taxa/100) ** Prazo\n",
    "T = Taxa ** Prazo\n",
    "\n",
    "\n",
    "print(Taxac)\n",
    "print(T)"
   ]
  }
 ],
 "metadata": {
  "kernelspec": {
   "display_name": "venv",
   "language": "python",
   "name": "python3"
  },
  "language_info": {
   "codemirror_mode": {
    "name": "ipython",
    "version": 3
   },
   "file_extension": ".py",
   "mimetype": "text/x-python",
   "name": "python",
   "nbconvert_exporter": "python",
   "pygments_lexer": "ipython3",
   "version": "3.12.7"
  }
 },
 "nbformat": 4,
 "nbformat_minor": 2
}
